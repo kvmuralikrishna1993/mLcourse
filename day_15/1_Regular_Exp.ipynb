{
 "cells": [
  {
   "cell_type": "code",
   "execution_count": 5,
   "metadata": {},
   "outputs": [],
   "source": [
    "###################################################################################\n",
    "# Purpose: Basic understanding on regular expressions                             #\n",
    "# input:   Strings                                                                #\n",
    "# output:  Strings                                                                #\n",
    "  ###################################################################################\n",
    "\n",
    "# Regular Expressions are strings with special syntax. \n",
    "# They are used to define a pattern of characters in a text string. \n",
    "\n",
    "import re  # split, findall, search, match"
   ]
  },
  {
   "cell_type": "code",
   "execution_count": 6,
   "metadata": {},
   "outputs": [
    {
     "data": {
      "text/plain": [
       "['hi', 'there', 'How', 'are', 'you']"
      ]
     },
     "execution_count": 6,
     "metadata": {},
     "output_type": "execute_result"
    }
   ],
   "source": [
    "# syntax for regex is always pattern first and string second.\n",
    "word_regex = '\\w+'\n",
    "re.findall(word_regex, 'hi there! How are you?') \n",
    "\n",
    "#re.findall?  (question mark brings help)\n",
    "#'\\w+' drops special characters and even thinks special characters are word separators"
   ]
  },
  {
   "cell_type": "code",
   "execution_count": 7,
   "metadata": {},
   "outputs": [
    {
     "data": {
      "text/plain": [
       "['student of IIIT']"
      ]
     },
     "execution_count": 7,
     "metadata": {},
     "output_type": "execute_result"
    }
   ],
   "source": [
    "wildcard_regex = 'st.*' # wildcard\n",
    "re.findall(wildcard_regex, 'Proud student of IIIT') "
   ]
  },
  {
   "cell_type": "code",
   "execution_count": 8,
   "metadata": {},
   "outputs": [
    {
     "data": {
      "text/plain": [
       "[' ', ' ', ' ', ' ', ' ', ' ', ' ', ' ']"
      ]
     },
     "execution_count": 8,
     "metadata": {},
     "output_type": "execute_result"
    }
   ],
   "source": [
    "greedy_regex = '\\s' # get me the spacse\n",
    "re.findall(greedy_regex, 'this is to fetch the white spaces in between') "
   ]
  },
  {
   "cell_type": "code",
   "execution_count": 9,
   "metadata": {},
   "outputs": [
    {
     "data": {
      "text/plain": [
       "['I', 'I', 'I', 'T', 'H', 'Y', 'D']"
      ]
     },
     "execution_count": 9,
     "metadata": {},
     "output_type": "execute_result"
    }
   ],
   "source": [
    "not_space_regex = '[\\S]'  # S for negation. (not spaces)\n",
    "re.findall(not_space_regex, 'IIIT HYD') "
   ]
  },
  {
   "cell_type": "code",
   "execution_count": 10,
   "metadata": {},
   "outputs": [
    {
     "data": {
      "text/plain": [
       "['this', 'is', 'split', 'the', 'string', 'on', 'spaces!']"
      ]
     },
     "execution_count": 10,
     "metadata": {},
     "output_type": "execute_result"
    }
   ],
   "source": [
    "# TOkenization (split the string on spaces)\n",
    "greedy_regex = '\\s'\n",
    "re.split(greedy_regex, 'this is split the string on spaces!')\n",
    "\n",
    "#a = 'this is split the string on spaces'\n",
    "#a.split()"
   ]
  },
  {
   "cell_type": "code",
   "execution_count": null,
   "metadata": {},
   "outputs": [],
   "source": []
  }
 ],
 "metadata": {
  "kernelspec": {
   "display_name": "Python 3",
   "language": "python",
   "name": "python3"
  },
  "language_info": {
   "codemirror_mode": {
    "name": "ipython",
    "version": 3
   },
   "file_extension": ".py",
   "mimetype": "text/x-python",
   "name": "python",
   "nbconvert_exporter": "python",
   "pygments_lexer": "ipython3",
   "version": "3.6.5"
  }
 },
 "nbformat": 4,
 "nbformat_minor": 1
}
